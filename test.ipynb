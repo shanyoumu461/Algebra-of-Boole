{
 "cells": [
  {
   "cell_type": "code",
   "execution_count": null,
   "metadata": {},
   "outputs": [
    {
     "ename": "TypeError",
     "evalue": "expecting local_dict to be a dict",
     "output_type": "error",
     "traceback": [
      "\u001b[1;31m---------------------------------------------------------------------------\u001b[0m",
      "\u001b[1;31mTypeError\u001b[0m                                 Traceback (most recent call last)",
      "Cell \u001b[1;32mIn[6], line 11\u001b[0m\n\u001b[0;32m      8\u001b[0m         varset\u001b[38;5;241m.\u001b[39madd(s)\n\u001b[0;32m      9\u001b[0m sp\u001b[38;5;241m.\u001b[39mvar(\u001b[38;5;124m'\u001b[39m\u001b[38;5;124m \u001b[39m\u001b[38;5;124m'\u001b[39m\u001b[38;5;241m.\u001b[39mjoin(varset))\n\u001b[1;32m---> 11\u001b[0m expr \u001b[38;5;241m=\u001b[39m sp\u001b[38;5;241m.\u001b[39msympify(expr, varset)\n\u001b[0;32m     12\u001b[0m \u001b[38;5;28mprint\u001b[39m(expr)\n\u001b[0;32m     13\u001b[0m expanded_expr \u001b[38;5;241m=\u001b[39m sp\u001b[38;5;241m.\u001b[39mexpand(expr)\n",
      "File \u001b[1;32mc:\\Users\\shanyoumu\\anaconda3\\Lib\\site-packages\\sympy\\core\\sympify.py:496\u001b[0m, in \u001b[0;36msympify\u001b[1;34m(a, locals, convert_xor, strict, rational, evaluate)\u001b[0m\n\u001b[0;32m    494\u001b[0m \u001b[38;5;28;01mtry\u001b[39;00m:\n\u001b[0;32m    495\u001b[0m     a \u001b[38;5;241m=\u001b[39m a\u001b[38;5;241m.\u001b[39mreplace(\u001b[38;5;124m'\u001b[39m\u001b[38;5;130;01m\\n\u001b[39;00m\u001b[38;5;124m'\u001b[39m, \u001b[38;5;124m'\u001b[39m\u001b[38;5;124m'\u001b[39m)\n\u001b[1;32m--> 496\u001b[0m     expr \u001b[38;5;241m=\u001b[39m parse_expr(a, local_dict\u001b[38;5;241m=\u001b[39m\u001b[38;5;28mlocals\u001b[39m, transformations\u001b[38;5;241m=\u001b[39mtransformations, evaluate\u001b[38;5;241m=\u001b[39mevaluate)\n\u001b[0;32m    497\u001b[0m \u001b[38;5;28;01mexcept\u001b[39;00m (TokenError, \u001b[38;5;167;01mSyntaxError\u001b[39;00m) \u001b[38;5;28;01mas\u001b[39;00m exc:\n\u001b[0;32m    498\u001b[0m     \u001b[38;5;28;01mraise\u001b[39;00m SympifyError(\u001b[38;5;124m'\u001b[39m\u001b[38;5;124mcould not parse \u001b[39m\u001b[38;5;132;01m%r\u001b[39;00m\u001b[38;5;124m'\u001b[39m \u001b[38;5;241m%\u001b[39m a, exc)\n",
      "File \u001b[1;32mc:\\Users\\shanyoumu\\anaconda3\\Lib\\site-packages\\sympy\\parsing\\sympy_parser.py:1044\u001b[0m, in \u001b[0;36mparse_expr\u001b[1;34m(s, local_dict, transformations, global_dict, evaluate)\u001b[0m\n\u001b[0;32m   1042\u001b[0m     local_dict \u001b[38;5;241m=\u001b[39m {}\n\u001b[0;32m   1043\u001b[0m \u001b[38;5;28;01melif\u001b[39;00m \u001b[38;5;129;01mnot\u001b[39;00m \u001b[38;5;28misinstance\u001b[39m(local_dict, \u001b[38;5;28mdict\u001b[39m):\n\u001b[1;32m-> 1044\u001b[0m     \u001b[38;5;28;01mraise\u001b[39;00m \u001b[38;5;167;01mTypeError\u001b[39;00m(\u001b[38;5;124m'\u001b[39m\u001b[38;5;124mexpecting local_dict to be a dict\u001b[39m\u001b[38;5;124m'\u001b[39m)\n\u001b[0;32m   1045\u001b[0m \u001b[38;5;28;01melif\u001b[39;00m null \u001b[38;5;129;01min\u001b[39;00m local_dict:\n\u001b[0;32m   1046\u001b[0m     \u001b[38;5;28;01mraise\u001b[39;00m \u001b[38;5;167;01mValueError\u001b[39;00m(\u001b[38;5;124m'\u001b[39m\u001b[38;5;124mcannot use \u001b[39m\u001b[38;5;124m\"\u001b[39m\u001b[38;5;124m\"\u001b[39m\u001b[38;5;124m in local_dict\u001b[39m\u001b[38;5;124m'\u001b[39m)\n",
      "\u001b[1;31mTypeError\u001b[0m: expecting local_dict to be a dict"
     ]
    }
   ],
   "source": [
    "import sympy as sp \n",
    "from sympy.abc import _clash1\n",
    "set(_clash1)\n",
    "expr = '(1 + ((1 + M)) + ((1 + M))*((1 + S)))'\n",
    "varset = set()\n",
    "for s in expr:\n",
    "    if(s != ' ' and s != '+' and s != '*' and s != '(' and s != ')' and s != '1'):\n",
    "        varset.add(s)\n",
    "sp.var(' '.join(varset))\n",
    "\n",
    "expr = sp.sympify(expr, _clash1)\n",
    "print(expr)\n",
    "expanded_expr = sp.expand(expr)\n",
    "print(\"展开后的表达式:\", expanded_expr)"
   ]
  },
  {
   "cell_type": "code",
   "execution_count": 4,
   "metadata": {},
   "outputs": [
    {
     "data": {
      "text/plain": [
       "{'E', 'I', 'N', 'O', 'Q', 'S', 'beta', 'gamma', 'pi', 'zeta'}"
      ]
     },
     "execution_count": 4,
     "metadata": {},
     "output_type": "execute_result"
    }
   ],
   "source": [
    "from sympy.abc import _clash\n",
    "set(_clash)"
   ]
  },
  {
   "cell_type": "code",
   "execution_count": 24,
   "metadata": {},
   "outputs": [
    {
     "data": {
      "text/plain": [
       "'S M 1'"
      ]
     },
     "execution_count": 24,
     "metadata": {},
     "output_type": "execute_result"
    }
   ],
   "source": [
    "' '.join(varset)"
   ]
  },
  {
   "cell_type": "code",
   "execution_count": 15,
   "metadata": {},
   "outputs": [
    {
     "name": "stdout",
     "output_type": "stream",
     "text": [
      "展开后的表达式: M*S + 2*M + S + 3\n"
     ]
    }
   ],
   "source": [
    "import sympy as sp\n",
    "\n",
    "# 定义符号变量\n",
    "M, S = sp.symbols('M S')\n",
    "\n",
    "# 表达式字符串\n",
    "expr_str = 1 + (1 + M) + (1 + M)*(1 + S)\n",
    "\n",
    "# 将字符串表达式转换为 SymPy 表达式\n",
    "# expr = sp.sympify(expr_str)\n",
    "\n",
    "# 打印简化后的表达式\n",
    "# print(\"简化后的表达式:\", expr)\n",
    "\n",
    "# 展开表达式\n",
    "expanded_expr = sp.expand(expr_str)\n",
    "print(\"展开后的表达式:\", expanded_expr)"
   ]
  },
  {
   "cell_type": "code",
   "execution_count": null,
   "metadata": {},
   "outputs": [],
   "source": [
    "print"
   ]
  },
  {
   "cell_type": "code",
   "execution_count": 4,
   "metadata": {},
   "outputs": [
    {
     "name": "stdout",
     "output_type": "stream",
     "text": [
      "symstr: 1 + (1+a*b+a*b*c)*(1+a*c)\n",
      "res: ab + abc + ac\n"
     ]
    }
   ],
   "source": [
    "from src.LogicJudge import  *\n",
    "\n",
    "expr = '1 + (1+ab+abc)(1+ac)'\n",
    "symstr = Boolstr2symstr(expr)\n",
    "print(f\"symstr: {symstr}\")\n",
    "res = BooleReduce(symstr)\n",
    "print(f\"res: {res}\")"
   ]
  }
 ],
 "metadata": {
  "kernelspec": {
   "display_name": "base",
   "language": "python",
   "name": "python3"
  },
  "language_info": {
   "codemirror_mode": {
    "name": "ipython",
    "version": 3
   },
   "file_extension": ".py",
   "mimetype": "text/x-python",
   "name": "python",
   "nbconvert_exporter": "python",
   "pygments_lexer": "ipython3",
   "version": "3.11.5"
  }
 },
 "nbformat": 4,
 "nbformat_minor": 2
}
